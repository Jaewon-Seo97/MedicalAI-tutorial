{
 "cells": [
  {
   "cell_type": "markdown",
   "metadata": {},
   "source": [
    "##### 0. 필요한 라이브러리 추가 설치\n",
    "###### Dicom 및 nifti 파일 저장 및 불러오기에 활용할 SimpleITK 라이브러리 설치\n",
    "###### Radiomics feature 추출 및 데이터 가시화를 위한 seaborn 라이브러리 설치"
   ]
  },
  {
   "cell_type": "code",
   "execution_count": null,
   "metadata": {},
   "outputs": [],
   "source": [
    "!pip install SimpleITK pyradiomics seaborn"
   ]
  },
  {
   "cell_type": "markdown",
   "metadata": {},
   "source": [
    "##### 1. 사용할 라이브러리 임포트\n",
    "###### 인공지능 모델 학습을 위한 데이터 로드 및 전처리, 학습 과정에서 필요한 라이브러리 임포트"
   ]
  },
  {
   "cell_type": "code",
   "execution_count": null,
   "metadata": {},
   "outputs": [],
   "source": [
    "import os\n",
    "import json\n",
    "import SimpleITK as sitk\n",
    "import numpy as np\n",
    "import cv2\n",
    "import matplotlib.pyplot as plt"
   ]
  },
  {
   "cell_type": "markdown",
   "metadata": {},
   "source": [
    "##### 2. 데이터 경로\n",
    "###### 사용될 데이터 경로 확인 및 설정"
   ]
  },
  {
   "cell_type": "code",
   "execution_count": null,
   "metadata": {},
   "outputs": [],
   "source": [
    "!pwd"
   ]
  },
  {
   "cell_type": "code",
   "execution_count": null,
   "metadata": {},
   "outputs": [],
   "source": [
    "# Checking data path\n",
    "path_df = '/home/user/workdir/notices/data'\n",
    "path_data = os.path.join(path_df, 'breast')\n",
    "# path_data = os.path.join(os.path.abspath('..'), 'data')\n",
    "path_abimg = os.path.join(path_data, 'image', 'abnormal')\n",
    "path_nrimg = os.path.join(path_data, 'image', 'normal')\n",
    "\n",
    "for (path, dir, file) in os.walk(path_data):\n",
    "    print(\"path:\", path)\n",
    "    print(\"dir:\", dir)\n",
    "    print(\"file:\", file)\n",
    "    print(\"----------\")\n",
    "\n",
    "## Getting data name\n",
    "abnameList = sorted([name.split('.')[0] for name in os.listdir(path_abimg) if name.endswith('.dcm')])\n",
    "nrnameList = sorted([name.split('.')[0] for name in os.listdir(path_nrimg) if name.endswith('.dcm')])\n",
    "\n",
    "print(f'Abnormal: {len(abnameList)}')\n",
    "print(f'Normal: {len(nrnameList)}')\n"
   ]
  },
  {
   "cell_type": "code",
   "execution_count": null,
   "metadata": {},
   "outputs": [],
   "source": [
    "print(f'Abnormal name List: {abnameList}')\n",
    "print(f'normal name List: {nrnameList}')"
   ]
  },
  {
   "cell_type": "markdown",
   "metadata": {},
   "source": [
    "##### 3. 데이터 확인\n",
    "###### - 데이터 경로에 저장된 데이터 확인\n",
    "###### - 데이터에 저장된 환자의 정보값과 이미지 정보, 병변 정보 등을 시각화하여 확인"
   ]
  },
  {
   "cell_type": "code",
   "execution_count": null,
   "metadata": {},
   "outputs": [],
   "source": [
    "# Checking sample images & information\n",
    "## checking information from a dicom file\n",
    "abname = abnameList[0]\n",
    "abimg = sitk.ReadImage(os.path.join(path_abimg, f'{abname}.dcm'))\n",
    "for k in abimg.GetMetaDataKeys():\n",
    "    v = abimg.GetMetaData(k)\n",
    "    print(f'({k}) = = \"{v}\"')\n",
    "\n",
    "print(f\"Image Size: {abimg.GetSize()}\")\n",
    "print(f\"Image PixelType: {sitk.GetPixelIDValueAsString(abimg.GetPixelID())}\")"
   ]
  },
  {
   "cell_type": "code",
   "execution_count": null,
   "metadata": {},
   "outputs": [],
   "source": [
    "## checking information from a json file\n",
    "with open(os.path.join(path_data, 'label', 'json', 'abnormal', f'{abname}.json'), 'r') as info_json:\n",
    "    patient_info = json.load(info_json) # dictionary 형태로 로드\n",
    "\n",
    "print(patient_info)\n",
    "print(patient_info.keys())"
   ]
  },
  {
   "cell_type": "code",
   "execution_count": null,
   "metadata": {},
   "outputs": [],
   "source": [
    "patient_info['patientInfo']"
   ]
  },
  {
   "cell_type": "code",
   "execution_count": null,
   "metadata": {},
   "outputs": [],
   "source": [
    "## checking an image\n",
    "abname = nrnameList[9]\n",
    "img = sitk.ReadImage(os.path.join(path_nrimg, f'{abname}.dcm'))\n",
    "\n",
    "img = sitk.GetArrayFromImage(img)[0]\n",
    "plt.imshow(img, cmap='gray')"
   ]
  },
  {
   "cell_type": "code",
   "execution_count": null,
   "metadata": {},
   "outputs": [],
   "source": [
    "## checking sample images\n",
    "n_sample = 5\n",
    "\n",
    "for n in range(0, len(abnameList), len(abnameList)//n_sample):\n",
    "    \n",
    "    abimg = sitk.GetArrayFromImage(sitk.ReadImage(os.path.join(path_abimg, f'{abnameList[n]}.dcm')))[0]\n",
    "    nrimg = sitk.GetArrayFromImage(sitk.ReadImage(os.path.join(path_nrimg, f'{nrnameList[n]}.dcm')))[0]\n",
    "    \n",
    "    plt.subplot(1,2,1)\n",
    "    plt.title(f'Abnormal: {abnameList[n]}')\n",
    "    plt.imshow(abimg,cmap='gray')\n",
    "    plt.axis('off')\n",
    "    \n",
    "    plt.subplot(1,2,2)\n",
    "    plt.title(f'Normal: {nrnameList[n]}')\n",
    "    plt.imshow(nrimg,cmap='gray')\n",
    "    plt.axis('off')\n",
    "    plt.show()"
   ]
  },
  {
   "cell_type": "code",
   "execution_count": null,
   "metadata": {},
   "outputs": [],
   "source": [
    "# lesion type 확인\n",
    "abnameList = sorted([name.split('.')[0] for name in os.listdir(os.path.join(path_data, 'label', 'json', 'abnormal')) if name.endswith('.json')])\n",
    "\n",
    "mnList = list()\n",
    "bnList = list()\n",
    "\n",
    "for n, abname in enumerate(abnameList):\n",
    "    with open(os.path.join(path_data, 'label', 'json', 'abnormal', f'{abname}.json'), 'r') as info_json:\n",
    "        patient_info = json.load(info_json) # dictionary 형태로 로드\n",
    "        abtype = patient_info['patientInfo']['lesion_type']\n",
    "        if abtype == 'malignant':\n",
    "            mnList.append(abname)\n",
    "        elif abtype == 'benign':\n",
    "            bnList.append(abname)\n",
    "        else:\n",
    "            print(f'Unknown: {abname}')"
   ]
  },
  {
   "cell_type": "code",
   "execution_count": null,
   "metadata": {},
   "outputs": [],
   "source": [
    "print(f'악성: {len(mnList)} | 양성: {len(bnList)}')"
   ]
  },
  {
   "cell_type": "code",
   "execution_count": null,
   "metadata": {},
   "outputs": [],
   "source": [
    "## checking malignant lesion samples\n",
    "n_sample = 5\n",
    "for n, name in enumerate(mnList[:n_sample]):\n",
    "    \n",
    "    abimg = sitk.GetArrayFromImage(sitk.ReadImage(os.path.join(path_abimg, f'{name}.dcm')))[0]\n",
    "    ablab = sitk.GetArrayFromImage(sitk.ReadImage(os.path.join(path_data, 'label', 'nii', f'{name}.nii')))\n",
    "\n",
    "    plt.figure(figsize=(10,30))    \n",
    "    plt.subplot(1,3,1)\n",
    "    plt.title(f'mn: {name}')\n",
    "    plt.imshow(abimg,cmap='gray')\n",
    "    plt.axis('off')\n",
    "    \n",
    "    plt.subplot(1,3,2)\n",
    "    plt.title(f'Label')\n",
    "    plt.imshow(ablab,cmap='gray')\n",
    "    plt.axis('off')\n",
    "\n",
    "    plt.subplot(1,3,3)\n",
    "    plt.title(f'Overlay')\n",
    "    plt.imshow(abimg,cmap='gray', alpha=0.8)\n",
    "    plt.imshow(ablab,cmap='Reds', alpha=0.4)\n",
    "    \n",
    "    plt.axis('off')\n",
    "    \n"
   ]
  },
  {
   "cell_type": "code",
   "execution_count": null,
   "metadata": {},
   "outputs": [],
   "source": [
    "## checking benign lesion samples\n",
    "n_sample = 5\n",
    "for n, name in enumerate(bnList[:n_sample]):\n",
    "    \n",
    "    abimg = sitk.GetArrayFromImage(sitk.ReadImage(os.path.join(path_abimg, f'{name}.dcm')))[0]\n",
    "    ablab = sitk.GetArrayFromImage(sitk.ReadImage(os.path.join(path_data, 'label', 'nii', f'{name}.nii')))\n",
    "\n",
    "    plt.figure(figsize=(10,30))    \n",
    "    plt.subplot(1,3,1)\n",
    "    plt.title(f'bn: {name}')\n",
    "    plt.imshow(abimg,cmap='gray')\n",
    "    plt.axis('off')\n",
    "    \n",
    "    plt.subplot(1,3,2)\n",
    "    plt.title(f'Label')\n",
    "    plt.imshow(ablab,cmap='gray')\n",
    "    plt.axis('off')\n",
    "\n",
    "    plt.subplot(1,3,3)\n",
    "    plt.title(f'Overlay')\n",
    "    plt.imshow(abimg,cmap='gray', alpha=0.8)\n",
    "    plt.imshow(ablab,cmap='Reds', alpha=0.4)\n",
    "    \n",
    "    plt.axis('off')\n",
    "    \n"
   ]
  }
 ],
 "metadata": {
  "kernelspec": {
   "display_name": "sha_tf",
   "language": "python",
   "name": "python3"
  },
  "language_info": {
   "codemirror_mode": {
    "name": "ipython",
    "version": 3
   },
   "file_extension": ".py",
   "mimetype": "text/x-python",
   "name": "python",
   "nbconvert_exporter": "python",
   "pygments_lexer": "ipython3",
   "version": "3.9.16"
  },
  "orig_nbformat": 4
 },
 "nbformat": 4,
 "nbformat_minor": 2
}
