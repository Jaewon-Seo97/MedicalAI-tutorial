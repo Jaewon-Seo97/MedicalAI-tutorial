{
 "cells": [
  {
   "cell_type": "code",
   "execution_count": null,
   "metadata": {},
   "outputs": [],
   "source": [
    "import pandas as pd\n",
    "import matplotlib.pyplot as plt\n",
    "import seaborn as sns\n",
    "from sklearn.preprocessing import RobustScaler\n",
    "from sklearn.model_selection import train_test_split, GridSearchCV\n",
    "from sklearn.metrics import (\n",
    "    accuracy_score,\n",
    "    confusion_matrix,\n",
    "    classification_report,\n",
    "    roc_auc_score\n",
    ")\n",
    "import pickle\n",
    "import warnings\n",
    "warnings.filterwarnings('ignore')\n"
   ]
  },
  {
   "cell_type": "code",
   "execution_count": null,
   "metadata": {},
   "outputs": [],
   "source": [
    "# Setting parameter\n",
    "n_fold = 5\n",
    "rand_seed = 5"
   ]
  },
  {
   "cell_type": "code",
   "execution_count": null,
   "metadata": {},
   "outputs": [],
   "source": [
    "# loading data & model\n",
    "df = pd.read_csv(\"data/selected_tree.csv\" , sep = \",\")\n",
    "\n",
    "X = df.drop('label', axis=1)  # Features\n",
    "Y = df['label']  # Target variable\n",
    "\n",
    "X_train, X_test, y_train, y_test = train_test_split(X, Y, test_size=0.25, random_state=rand_seed, stratify=Y)\n",
    "\n",
    "\n",
    "print(f'Train: {X_train.shape} | Test: {X_test.shape}')\n",
    "\n",
    "\n",
    "with open(\"./model_rf.pkl\", \"rb\") as f:\n",
    "    base_model = pickle.load(f)\n"
   ]
  },
  {
   "cell_type": "markdown",
   "metadata": {},
   "source": [
    "- GridSearchCV: 머신러닝 모델의 하이퍼파라미터를 최적화하기 위한 방법. \n",
    "- 주어진 파라미터 공간을 탐색하여 최적의 파라미터 조합"
   ]
  },
  {
   "cell_type": "code",
   "execution_count": null,
   "metadata": {},
   "outputs": [],
   "source": [
    "param_grid = { \n",
    "    'n_estimators': [100,200, 500],    ## n Tree\n",
    "    'max_features': [ 'sqrt', 'log2'], ## 각 결정 트리를 만들 때 사용할 특성(feature)의 최대 개수\n",
    "    'max_depth' : [4,5,6,7,8],         ## 각 결정 트리의 최대 깊이\n",
    "    'criterion' :['gini', 'entropy']   ## 트리 분할의 품질을 측정하는 기준\n",
    "}\n",
    "grid_clf = GridSearchCV(estimator=base_model, param_grid=param_grid, cv= n_fold)\n",
    "grid_clf.fit(X_train, y_train)"
   ]
  },
  {
   "cell_type": "code",
   "execution_count": null,
   "metadata": {},
   "outputs": [],
   "source": [
    "print(f'Best parameters: {grid_clf.best_params_}')\n",
    "accuracy = grid_clf.best_score_ *100\n",
    "print(\"Accuracy with tuning is : {:.2f}%\".format(accuracy) )"
   ]
  },
  {
   "cell_type": "code",
   "execution_count": null,
   "metadata": {},
   "outputs": [],
   "source": [
    "print('Performance in test set')\n",
    "print(classification_report(y_test,grid_clf.best_estimator_.predict(X_test)))\n"
   ]
  }
 ],
 "metadata": {
  "kernelspec": {
   "display_name": "sha_tf",
   "language": "python",
   "name": "python3"
  },
  "language_info": {
   "codemirror_mode": {
    "name": "ipython",
    "version": 3
   },
   "file_extension": ".py",
   "mimetype": "text/x-python",
   "name": "python",
   "nbconvert_exporter": "python",
   "pygments_lexer": "ipython3",
   "version": "3.9.16"
  }
 },
 "nbformat": 4,
 "nbformat_minor": 2
}
