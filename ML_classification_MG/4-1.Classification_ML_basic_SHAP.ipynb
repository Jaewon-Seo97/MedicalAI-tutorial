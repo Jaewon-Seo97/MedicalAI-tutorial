{
 "cells": [
  {
   "cell_type": "markdown",
   "metadata": {},
   "source": [
    "- Shapley Value란, 게임이론을 바탕으로 Game에서 각 Player의 기여분을 계산하는 방법임.\n",
    "- 하나의 feature에 대한 중요도를 얻기 위해 다양한 feature의 조합을 구성하고, 해당 feature의 유무에 따른 평균적인 변화를 통해 얻은 값임.\n",
    "- 따라서 Shapley Value는 전체 성과(판단)을 창출하는 데 각 feature가 얼마나 공헌했는지 수치로 표현할 수 있음."
   ]
  },
  {
   "cell_type": "code",
   "execution_count": null,
   "metadata": {},
   "outputs": [],
   "source": [
    "!pip install shap"
   ]
  },
  {
   "cell_type": "code",
   "execution_count": null,
   "metadata": {},
   "outputs": [],
   "source": [
    "import pandas as pd\n",
    "import matplotlib.pyplot as plt\n",
    "import seaborn as sns\n",
    "import numpy as np\n",
    "from sklearn.preprocessing import RobustScaler\n",
    "from sklearn.metrics import classification_report\n",
    "from sklearn.model_selection import train_test_split\n",
    "import warnings\n",
    "import pickle\n",
    "\n",
    "import shap\n",
    "\n",
    "warnings.filterwarnings('ignore')"
   ]
  },
  {
   "cell_type": "code",
   "execution_count": null,
   "metadata": {},
   "outputs": [],
   "source": [
    "# Setting parameter\n",
    "rand_seed = 5\n",
    "\n",
    "# loading data & model\n",
    "df = pd.read_csv(\"data/selected_tree.csv\" , sep = \",\")\n",
    "\n",
    "X = df.drop('label', axis=1)  # Features\n",
    "Y = df['label']  # Target variable\n",
    "\n",
    "X_train, X_test, y_train, y_test = train_test_split(X, Y, test_size=0.25, random_state=rand_seed, stratify=Y)\n",
    "\n",
    "\n",
    "print(f'Train: {X_train.shape} | Test: {X_test.shape}')\n",
    "\n",
    "\n",
    "with open(\"./model_rf.pkl\", \"rb\") as f:\n",
    "    model = pickle.load(f)\n"
   ]
  },
  {
   "cell_type": "code",
   "execution_count": null,
   "metadata": {},
   "outputs": [],
   "source": [
    "# TreeExplainer 객체 생성\n",
    "exp = shap.TreeExplainer(model)\n",
    "\n",
    "# SHAP값 산출\n",
    "sv_test = exp.shap_values(X_test)\n",
    "sv_test = sv_test[:,:,1] #클래스 1에 속할 확률에 대한 SHAP값\n",
    "\n",
    "# 결과 확인\n",
    "print(X_test.shape, sv_test.shape) # 데이터 세트와 SHAP 값의 형태\n",
    "print(sv_test[0]) # 첫 번째 샘플에 대한 SHAP 값"
   ]
  },
  {
   "cell_type": "code",
   "execution_count": null,
   "metadata": {},
   "outputs": [],
   "source": [
    "# 이름 수정\n",
    "feature_names = df.drop('label', axis=1).columns.to_list()\n",
    "feature_names = [n[n.index('_')+1:] for n in feature_names]\n",
    "print(feature_names)"
   ]
  },
  {
   "cell_type": "code",
   "execution_count": null,
   "metadata": {},
   "outputs": [],
   "source": [
    "exp.shap_values(X_test).shape\n",
    "print(X_test.iloc[0])"
   ]
  },
  {
   "cell_type": "code",
   "execution_count": null,
   "metadata": {},
   "outputs": [],
   "source": [
    "\"\"\"\n",
    "# 개별데이터에 대한 특징량을 시각화\n",
    "    그래프의 수평선은 각 특징의 영향을 의미.\n",
    "    빨간색 선: Feature가 해당 클래스로 예측함을 증가시키는 방향으로 영향을 미침을 의미.\n",
    "    파란색 선: Feature가 해당 클래스로 예측함을 감소시키는 방향으로 영향을 미침을 의미.\n",
    "    선의 길이: 영향의 크기와 비례함.=> 긴 선일수록 더 큰 영향.\n",
    "    모든 선의 영향의 합 = 모델의 최종 예측값.\n",
    "\n",
    "# exp.expected_value[1]는 이진 분류 문제에서 클래스 1에 대한 기대값을 나타냄\n",
    "# sv_test[n]: 개별 데이터의 모든 특징의 SHAP 값을 나타냄\n",
    "# test_x[n]: 개별 데이터의 대한 특징 값을 나타냄\n",
    "\n",
    "\"\"\"\n",
    "\n",
    "sample_num = 0\n",
    "\n",
    "shap.force_plot(base_value=exp.expected_value[1], shap_values=sv_test[sample_num], features=X_test.iloc[sample_num],\n",
    "                feature_names=feature_names, matplotlib=True, figsize=(20, 5))\n",
    "plt.tight_layout() #레이아웃을 조정하여 글자가 겹치지 않게 함\n",
    "plt.show()\n"
   ]
  },
  {
   "cell_type": "code",
   "execution_count": null,
   "metadata": {},
   "outputs": [],
   "source": [
    "\"\"\"\n",
    "    그래프의 수평선은 기본 예측값에서 시작하여 각 특징의 영향을 순차적으로 더해 나감.\n",
    "    빨간색 선은 Feature가 예측을 증가시키는 영향을 미친다는 것을 의미.\n",
    "    파란색 선은 Feature가 예측을 감소시키는 영향을 미친다는 것을 의미.\n",
    "    선의 기울기는 영향의 크기를 의미=> 가파른 선일수록 더 큰 영향.\n",
    "    최종 예측값은 그래프의 오른쪽 끝에 도달한 값.\n",
    "\"\"\"\n",
    "shap.decision_plot(\n",
    "    base_value=exp.expected_value[1], shap_values=sv_test[sample_num], features=X_test.iloc[sample_num], feature_names=feature_names)"
   ]
  },
  {
   "cell_type": "code",
   "execution_count": null,
   "metadata": {},
   "outputs": [],
   "source": [
    "# 전체 데이터 세트에 대한 특징량의 영향 시각화\n",
    "\"\"\"\n",
    "    그래프의 각 행은 하나의 특징을 의미.\n",
    "    Feature의 중요도는 그래프에서 위에서부터 아래로 정렬=> 위쪽에 있는 특징일수록 더 중요도 높은 특징.\n",
    "    각 점은 특정 데이터 포인트에서 해당 Feature의 SHAP 값.\n",
    "    색상은 Feature의 실제 값을 의미. 높은 값은 빨간색으로, 낮은 값은 파란색으로 표시.\n",
    "    점의 수평 위치는 해당 Feature가 예측에 어떤 영향을 미치는지 의미. \n",
    "    => 오른쪽으로 갈수록 예측을 증가시키는 영향을 미치며, 왼쪽으로 갈수록 예측을 감소시키는 영향.\n",
    "\"\"\"\n",
    "## SAHP은 모델의 국소적인 설명에 특화된 기술이지만, \n",
    "## summary_plot 함수를 사용 시 모델의 전체적인 설명을 파악 가능\n",
    "shap.summary_plot(shap_values=sv_test, features=X_test,\n",
    "                  feature_names=feature_names)"
   ]
  }
 ],
 "metadata": {
  "kernelspec": {
   "display_name": "sha_tf",
   "language": "python",
   "name": "python3"
  },
  "language_info": {
   "codemirror_mode": {
    "name": "ipython",
    "version": 3
   },
   "file_extension": ".py",
   "mimetype": "text/x-python",
   "name": "python",
   "nbconvert_exporter": "python",
   "pygments_lexer": "ipython3",
   "version": "3.9.16"
  }
 },
 "nbformat": 4,
 "nbformat_minor": 2
}
